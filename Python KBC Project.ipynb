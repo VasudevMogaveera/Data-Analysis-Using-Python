{
 "cells": [
  {
   "cell_type": "code",
   "execution_count": 1,
   "id": "1b3f83a6",
   "metadata": {},
   "outputs": [
    {
     "name": "stdout",
     "output_type": "stream",
     "text": [
      "\n",
      "\n",
      "Question for Rs.1000\n",
      "a. Atal Bihari Vajpayee               b.Manmohan Singh\n",
      "c. Narendra Modi               d.Rahul Gandhi\n",
      "Enter your Answer (1-4): 2\n",
      "Correct answer! You have won Rs.1000\n",
      "\n",
      "\n",
      "Question for Rs.2000\n",
      "a. Tamil Nadu               b.Rajasthan\n",
      "c. Karnataka               d.Haryana\n",
      "Enter your Answer (1-4): 4\n",
      "Correct answer! You have won Rs.2000\n",
      "\n",
      "\n",
      "Question for Rs.3000\n",
      "a. Eknath Shinde               b.Udhav Thakhray\n",
      "c. Raj Thakhray               d.Sharath Pawar\n",
      "Enter your Answer (1-4): 1\n",
      "Correct answer! You have won Rs.3000\n",
      "Total money won: Rs. 0\n"
     ]
    }
   ],
   "source": [
    "questions = [\n",
    "    [\"who is the prime minister of india in 2012?\", \"Atal Bihari Vajpayee\",\"Manmohan Singh\",\n",
    "     \"Narendra Modi\", \"Rahul Gandhi\", \"None\", 2],\n",
    "    [\"Which of the following was the first Indian state to issue photo identity cards to its voters?\", \"Tamil Nadu\", \"Rajasthan\", \"Karnataka\", \"Haryana\", \"None\", 4],\n",
    "     [\"who is the Chif minister of Maharastra?\", \"Eknath Shinde\",\"Udhav Thakhray\",\"Raj Thakhray\",\"Sharath Pawar\",\"None\",1]\n",
    "]\n",
    "levels = [1000, 2000, 3000, 5000, 10000, 20000, 40000, 80000, 160000, 320000]\n",
    "money = 0\n",
    "\n",
    "for i in range(0, len(questions)):\n",
    "    question = questions[i]\n",
    "    print(f\"\\n\\nQuestion for Rs.{levels[i]}\")\n",
    "    print(f\"a. {question[1]}               b.{question[2]}\")\n",
    "    print(f\"c. {question[3]}               d.{question[4]}\")\n",
    "    reply = int(input(\"Enter your Answer (1-4): \"))\n",
    "\n",
    "    if reply == question[-1]:\n",
    "        print(f\"Correct answer! You have won Rs.{levels[i]}\")\n",
    "        if i == 4:\n",
    "            money = 10000\n",
    "        elif i == 9:\n",
    "            money = 320000\n",
    "        elif i == 14:\n",
    "            money = 10000000\n",
    "    else:\n",
    "        print(\"Wrong Answer!\")\n",
    "        break\n",
    "\n",
    "print(f\"Total money won: Rs. {money}\")\n"
   ]
  },
  {
   "cell_type": "code",
   "execution_count": null,
   "id": "cfc55740",
   "metadata": {},
   "outputs": [],
   "source": []
  },
  {
   "cell_type": "markdown",
   "id": "1026b30d",
   "metadata": {},
   "source": [
    "# Passward Generator"
   ]
  },
  {
   "cell_type": "code",
   "execution_count": 2,
   "id": "d975cf89",
   "metadata": {},
   "outputs": [
    {
     "name": "stdout",
     "output_type": "stream",
     "text": [
      "Enter the time in seconds:10\n",
      "Timer completed!\n"
     ]
    }
   ],
   "source": [
    "import time\n",
    "\n",
    "def countdown(t):\n",
    "    while t:\n",
    "        mins,secs = divmod(t,60)\n",
    "        timer = '{:02d}:{:02d}'.format(mins,secs)\n",
    "        print(timer, end=\"\\r\")\n",
    "        time.sleep(1)\n",
    "        t -= 1\n",
    "        \n",
    "    print('Timer completed!')  \n",
    "\n",
    "t = input ('Enter the time in seconds:')\n",
    "\n",
    "countdown (int(t))"
   ]
  },
  {
   "cell_type": "code",
   "execution_count": null,
   "id": "ffa2aa02",
   "metadata": {},
   "outputs": [],
   "source": []
  }
 ],
 "metadata": {
  "kernelspec": {
   "display_name": "Python 3 (ipykernel)",
   "language": "python",
   "name": "python3"
  },
  "language_info": {
   "codemirror_mode": {
    "name": "ipython",
    "version": 3
   },
   "file_extension": ".py",
   "mimetype": "text/x-python",
   "name": "python",
   "nbconvert_exporter": "python",
   "pygments_lexer": "ipython3",
   "version": "3.11.5"
  }
 },
 "nbformat": 4,
 "nbformat_minor": 5
}
